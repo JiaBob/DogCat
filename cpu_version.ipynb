{
 "cells": [
  {
   "cell_type": "code",
   "execution_count": 66,
   "metadata": {},
   "outputs": [],
   "source": [
    "import torch\n",
    "import numpy as np\n",
    "\n",
    "from torch.utils.data import Dataset, DataLoader, sampler\n",
    "from torchvision import transforms\n",
    "import torch.nn.functional as F\n",
    "from torch import nn, optim \n",
    "\n",
    "from PIL import Image\n",
    "import glob, re\n",
    "\n",
    "import matplotlib.pyplot as plt\n",
    "\n",
    "%matplotlib inline"
   ]
  },
  {
   "cell_type": "code",
   "execution_count": 47,
   "metadata": {},
   "outputs": [],
   "source": [
    "class DogCat(Dataset):\n",
    "    def __init__(self, path, transform):\n",
    "        self.img_paths = glob.glob(path)\n",
    "        self.cls = {'cat':0, 'dog':1}\n",
    "        self.transforms = transform\n",
    "        \n",
    "    def __len__(self):\n",
    "        return len(self.img_paths)\n",
    "    \n",
    "    def __getitem__(self, i):\n",
    "        img_name = self.img_paths[i]\n",
    "        label = re.search(r'.*\\\\(.*)\\.\\d+', img_name).group(1)\n",
    "        img = Image.open(img_name)\n",
    "        img = self.transforms(img)\n",
    "        return img, self.cls[label]"
   ]
  },
  {
   "cell_type": "code",
   "execution_count": 51,
   "metadata": {},
   "outputs": [],
   "source": [
    "transform = transforms.Compose([transforms.RandomHorizontalFlip(), \n",
    "                                transforms.Resize((62,62)),\n",
    "                                transforms.RandomCrop((32,32), padding=4),\n",
    "                                transforms.ToTensor(), \n",
    "                                transforms.Normalize((0.5, 0.5, 0.5), (0.5, 0.5, 0.5))])\n",
    "\n",
    "train_data = DogCat('D:\\Dog-data\\dog-training\\*.tif', transform=transform)  # 20000\n",
    "test_data = DogCat('D:\\Dog-data\\dog-test\\*.tif', transform=transform)  # 4000\n",
    "\n",
    "train_sampler = sampler.SubsetRandomSampler(range(18000))\n",
    "val_sampler = sampler.SubsetRandomSampler(range(18000, 20000))\n",
    "\n",
    "train_loader = DataLoader(train_data, sampler=train_sampler, batch_size=100)\n",
    "val_loader = DataLoader(train_data, sampler=val_sampler, batch_size=2000)\n",
    "test_loader = DataLoader(test_data, batch_size=4000)"
   ]
  },
  {
   "cell_type": "code",
   "execution_count": 70,
   "metadata": {},
   "outputs": [],
   "source": [
    "class ConvNet(nn.Module):\n",
    "    def __init__(self):\n",
    "        super(ConvNet, self).__init__()\n",
    "        self.conv1 = nn.Sequential(  # 3 * 32 * 32 -> 32 * 16 * 16\n",
    "            nn.Conv2d(3, 32, 5, 1, 2),\n",
    "            nn.ReLU(),\n",
    "            nn.BatchNorm2d(32),\n",
    "            nn.MaxPool2d(2, 2)\n",
    "            )\n",
    "        self.conv2 = nn.Sequential(  # 32 * 16 * 16 -> 64 * 8 * 8\n",
    "            nn.Conv2d(32, 64, 3, 1, 1),\n",
    "            nn.ReLU(),\n",
    "            nn.BatchNorm2d(64),\n",
    "            nn.MaxPool2d(2, 2)\n",
    "        )\n",
    "        self.fc1 = nn.Linear(4096, 1024)\n",
    "        self.fc2 = nn.Linear(1024, 1)\n",
    "    \n",
    "    def forward(self, x):\n",
    "        x = self.conv1(x)\n",
    "        x = self.conv2(x)\n",
    "        x = x.view(-1, 4096)\n",
    "        x = F.relu(self.fc1(x))\n",
    "        x = self.fc2(x)\n",
    "        \n",
    "        return x"
   ]
  },
  {
   "cell_type": "code",
   "execution_count": 101,
   "metadata": {
    "collapsed": true
   },
   "outputs": [],
   "source": [
    "def train(model, train_loader, criterion, optimizer, train_size, epochs=10):\n",
    "    losses, val_losses = [], []\n",
    "    acces, val_acces = [], []\n",
    "    \n",
    "    for epoch in range(epochs):\n",
    "        loss_sum = 0\n",
    "        correct = 0\n",
    "        for img, label in train_loader:\n",
    "            label = label.float()\n",
    "            optimizer.zero_grad()\n",
    "            with torch.set_grad_enabled(True):\n",
    "                out = model(img).squeeze()\n",
    "                loss = criterion(out, label)\n",
    "                loss.backward()\n",
    "                optimizer.step()\n",
    "            loss_sum += loss\n",
    "            \n",
    "            correct += ((label - F.sigmoid(out)).abs() <= 0.5).sum().item()\n",
    "        \n",
    "        val_loss, val_acc = predict(val_loader, model, criterion)\n",
    "        epoch_loss, epoch_acc = loss_sum / len(train_loader), correct / train_size\n",
    "        \n",
    "        val_losses.append(val_loss)\n",
    "        val_acces.append(val_acc)\n",
    "        losses.append(epoch_loss)\n",
    "        acces.append(epoch_acc)\n",
    "        \n",
    "        if (epoch + 1) % 2 == 0:\n",
    "            print(\"Epoch {} finished, current loss is {}, \\\n",
    "                  validation accuracy is {}\".format(epoch + 1, epoch_loss, val_acc))\n",
    "            torch.save(model, '{}epoch_result'.format(epoch + 1))\n",
    "        \n",
    "    return losses, acces, val_losses, val_acces\n",
    "\n",
    "def predict(dataset, model, criterion):\n",
    "    single_batch = next(iter(dataset))\n",
    "    img, label = single_batch[0], single_batch[1].float()\n",
    "    with torch.no_grad():\n",
    "        out = model(img).squeeze()\n",
    "        loss = criterion(out, label)\n",
    "        acc = ((label - F.sigmoid(out)).abs() <= 0.5).sum().item()\n",
    "    \n",
    "    return loss.item(), acc / img.size(0)"
   ]
  },
  {
   "cell_type": "code",
   "execution_count": 98,
   "metadata": {},
   "outputs": [
    {
     "name": "stdout",
     "output_type": "stream",
     "text": [
      "Epoch 2 finished, current loss is 0.5197381377220154, \\                  validation accuracy is 0.5675\n"
     ]
    },
    {
     "name": "stderr",
     "output_type": "stream",
     "text": [
      "D:\\programming_tools\\Anaconda3\\lib\\site-packages\\torch\\serialization.py:193: UserWarning: Couldn't retrieve source code for container of type ConvNet. It won't be checked for correctness upon loading.\n",
      "  \"type \" + obj.__name__ + \". It won't be checked \"\n"
     ]
    },
    {
     "name": "stdout",
     "output_type": "stream",
     "text": [
      "Epoch 4 finished, current loss is 0.5077508091926575, \\                  validation accuracy is 0.5075\n",
      "Epoch 6 finished, current loss is 0.49676141142845154, \\                  validation accuracy is 0.5195\n",
      "Epoch 8 finished, current loss is 0.49117371439933777, \\                  validation accuracy is 0.579\n",
      "Epoch 10 finished, current loss is 0.4805852174758911, \\                  validation accuracy is 0.5625\n",
      "Wall time: 23min 55s\n"
     ]
    }
   ],
   "source": [
    "%%time\n",
    "#model = ConvNet()\n",
    "model = torch.load('9epoch_result')\n",
    "criterion = nn.BCEWithLogitsLoss()\n",
    "optimizer = optim.Adam(model.parameters(), 1e-3, (0.9, 0.999))\n",
    "\n",
    "loss, acc, val_losses, val_acces = train(model, train_loader, criterion, optimizer, train_size=20000)"
   ]
  },
  {
   "cell_type": "code",
   "execution_count": 99,
   "metadata": {},
   "outputs": [
    {
     "name": "stdout",
     "output_type": "stream",
     "text": [
      "0.7675\n",
      "Wall time: 25.3 s\n"
     ]
    }
   ],
   "source": [
    "%%time\n",
    "\n",
    "_, pred_acc = predict(test_loader, model, criterion)\n",
    "print(pred_acc)"
   ]
  },
  {
   "cell_type": "code",
   "execution_count": 100,
   "metadata": {},
   "outputs": [
    {
     "data": {
      "text/plain": [
       "Text(0,0.5,'accuracy')"
      ]
     },
     "execution_count": 100,
     "metadata": {},
     "output_type": "execute_result"
    },
    {
     "data": {
      "image/png": "[encoded data removed]",
      "text/plain": [
       "<Figure size 720x360 with 2 Axes>"
      ]
     },
     "metadata": {},
     "output_type": "display_data"
    }
   ],
   "source": [
    "plt.figure(figsize=(10,5))\n",
    "plt.subplot(121)\n",
    "p1, = plt.plot(loss)\n",
    "p3, = plt.plot(val_losses)\n",
    "plt.legend([p1,p3], ['train loss', 'validation loss'])\n",
    "plt.xlabel('epochs')\n",
    "plt.ylabel('loss')\n",
    "\n",
    "plt.subplot(122)\n",
    "p2, = plt.plot(acc)\n",
    "p4, = plt.plot(val_acces)\n",
    "plt.legend([p2, p4], ['train acc', 'validation acc'])\n",
    "plt.xlabel('epochs')\n",
    "plt.ylabel('accuracy')"
   ]
  },
  {
   "cell_type": "code",
   "execution_count": 110,
   "metadata": {},
   "outputs": [],
   "source": [
    "import torchvision\n",
    "\n",
    "transform = transforms.Compose([transforms.RandomHorizontalFlip(), \n",
    "                                transforms.RandomCrop((224,224)),\n",
    "                                transforms.ToTensor(), \n",
    "                                transforms.Normalize((0.5, 0.5, 0.5), (0.5, 0.5, 0.5))])\n",
    "\n",
    "train_data = DogCat('D:\\Dog-data\\dog-training\\*.tif', transform=transform)  # 20000\n",
    "test_data = DogCat('D:\\Dog-data\\dog-test\\*.tif', transform=transform)  # 4000\n",
    "\n",
    "train_sampler = sampler.SubsetRandomSampler(range(18000))\n",
    "val_sampler = sampler.SubsetRandomSampler(range(18000, 20000))\n",
    "\n",
    "train_loader = DataLoader(train_data, sampler=train_sampler, batch_size=100)\n",
    "val_loader = DataLoader(train_data, sampler=val_sampler, batch_size=2000)\n",
    "test_loader = DataLoader(test_data, batch_size=4000)\n",
    "\n",
    "resnet = torchvision.models.resnet18(pretrained=True)\n",
    "\n",
    "for param in resnet.parameters():\n",
    "    param.requires_grad = False\n",
    "\n",
    "features = resnet.fc.in_features  # 512  \n",
    "resnet.fc = nn.Linear(features, 1) "
   ]
  },
  {
   "cell_type": "code",
   "execution_count": null,
   "metadata": {},
   "outputs": [],
   "source": [
    "%%time\n",
    "#model = ConvNet()\n",
    "model = resnet\n",
    "criterion = nn.BCEWithLogitsLoss()\n",
    "optimizer = optim.Adam(model.fc.parameters(), 1e-3, (0.9, 0.999))\n",
    "\n",
    "loss, acc, val_losses, val_acces = train(model, train_loader, criterion, optimizer, train_size=20000)"
   ]
  }
 ],
 "metadata": {
  "kernelspec": {
   "display_name": "Python 3",
   "language": "python",
   "name": "python3"
  },
  "language_info": {
   "codemirror_mode": {
    "name": "ipython",
    "version": 3
   },
   "file_extension": ".py",
   "mimetype": "text/x-python",
   "name": "python",
   "nbconvert_exporter": "python",
   "pygments_lexer": "ipython3",
   "version": "3.6.2"
  }
 },
 "nbformat": 4,
 "nbformat_minor": 2
}
