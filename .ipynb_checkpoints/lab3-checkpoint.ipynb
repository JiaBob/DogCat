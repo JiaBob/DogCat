{
 "cells": [
  {
   "cell_type": "code",
   "execution_count": 2,
   "metadata": {},
   "outputs": [],
   "source": [
    "import torch\n",
    "import numpy as np\n",
    "\n",
    "from torch.utils.data import Dataset, DataLoader\n",
    "from torchvision import transforms\n",
    "from skimage import io, transform\n",
    "import torch.nn.functional as F\n",
    "import glob, re"
   ]
  },
  {
   "cell_type": "code",
   "execution_count": 3,
   "metadata": {
    "collapsed": true
   },
   "outputs": [],
   "source": [
    "class DogCat(Dataset):\n",
    "    def __init__(self, path):\n",
    "        self.img_paths = glob.glob(path)\n",
    "    \n",
    "    def __len__(self):\n",
    "        return len(self.img_paths)\n",
    "    \n",
    "    def __getitem__(self, i):\n",
    "        img_name = self.img_paths[i]\n",
    "        label = re.search(r'.*\\\\(.*)\\.\\d+', img_name).group(1)\n",
    "        return io.imread(img_name), label"
   ]
  },
  {
   "cell_type": "code",
   "execution_count": 64,
   "metadata": {},
   "outputs": [
    {
     "name": "stdout",
     "output_type": "stream",
     "text": [
      "D:\\Dog-data\\dog-training\\cat.10000.tif\n",
      "cat\n"
     ]
    }
   ],
   "source": [
    "data = DogCat('D:\\Dog-data\\dog-training\\*.tif')\n",
    "\n",
    "train_sampler = torch.utils.data.sampler.SubsetRandomSampler(range(49000))\n",
    "val_sampler = torch.utils.data.sampler.SubsetRandomSampler(range(49000, 50000))\n",
    "\n",
    "DataLoader(data, sampler = )"
   ]
  }
 ],
 "metadata": {
  "kernelspec": {
   "display_name": "Python 3",
   "language": "python",
   "name": "python3"
  },
  "language_info": {
   "codemirror_mode": {
    "name": "ipython",
    "version": 3
   },
   "file_extension": ".py",
   "mimetype": "text/x-python",
   "name": "python",
   "nbconvert_exporter": "python",
   "pygments_lexer": "ipython3",
   "version": "3.6.2"
  }
 },
 "nbformat": 4,
 "nbformat_minor": 2
}
